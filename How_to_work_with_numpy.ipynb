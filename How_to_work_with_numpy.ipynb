{
  "cells": [
    {
      "cell_type": "markdown",
      "source": [
        "# MUHAMMAD AMIN NADIM\n",
        "https://muhammad-amin-nadim.github.io/"
      ],
      "metadata": {
        "id": "LIS_i9rc6W1h"
      }
    },
    {
      "cell_type": "markdown",
      "source": [
        "# HOW TO WORK WITH NUMPY"
      ],
      "metadata": {
        "id": "zDQ9w-n19quo"
      }
    },
    {
      "cell_type": "markdown",
      "metadata": {
        "id": "IzJ7V-5olXZj"
      },
      "source": [
        "#**Here we discuss the numpy(numerical python) from scratch**\n",
        "\n",
        "##Numpy is the core library for scientific computing in Python. It provides a high-performance multidimensional array object, and tools for working with these arrays. If you are already familiar with MATLAB, you might find this tutorial useful to get started with Numpy."
      ]
    },
    {
      "cell_type": "markdown",
      "metadata": {
        "id": "f9qrh5MKmuED"
      },
      "source": [
        "**Numpy arrays**: A numpy array is a grid of values, all of the same type, and is indexed by a tuple of nonnegative integers. The number of dimensions is the rank of the array; the shape of an array is a tuple of integers giving the size of the array along each dimension."
      ]
    },
    {
      "cell_type": "code",
      "execution_count": 1,
      "metadata": {
        "colab": {
          "base_uri": "https://localhost:8080/"
        },
        "id": "FSA2w0ivlUVV",
        "outputId": "c1ddcdd6-3e4c-4c51-b797-d2f528400039"
      },
      "outputs": [
        {
          "output_type": "stream",
          "name": "stdout",
          "text": [
            "Requirement already satisfied: numpy in /usr/local/lib/python3.7/dist-packages (1.21.5)\n"
          ]
        }
      ],
      "source": [
        "#installing numpy on your device\n",
        "!pip install numpy"
      ]
    },
    {
      "cell_type": "code",
      "execution_count": 2,
      "metadata": {
        "id": "4CGUh_-Ym8el"
      },
      "outputs": [],
      "source": [
        "#importing numpy in your program\n",
        "import numpy as np"
      ]
    },
    {
      "cell_type": "code",
      "execution_count": 3,
      "metadata": {
        "colab": {
          "base_uri": "https://localhost:8080/"
        },
        "id": "rvstgw4KnKWW",
        "outputId": "d3fe191e-3986-4a38-cbf9-64eb6dae7169"
      },
      "outputs": [
        {
          "output_type": "stream",
          "name": "stdout",
          "text": [
            "<class 'numpy.ndarray'>\n",
            "(3,)\n",
            "1 2 3\n",
            "[5 2 3]\n",
            "(2, 3)\n",
            "1 2 4\n"
          ]
        }
      ],
      "source": [
        "a = np.array([1, 2, 3])   # Create a rank 1 array (or 1-D array)\n",
        "print(type(a))            # Prints \"<class 'numpy.ndarray'>\"\n",
        "print(a.shape)            # Prints \"(3,)\"\n",
        "print(a[0], a[1], a[2])   # Prints \"1 2 3\"\n",
        "a[0] = 5                  # Change an element of the array\n",
        "print(a)                  # Prints \"[5, 2, 3]\"\n",
        "\n",
        "b = np.array([[1,2,3],[4,5,6]])    # Create a rank 2 array(or 2-D array)\n",
        "print(b.shape)                     # Prints \"(2, 3)\"\n",
        "print(b[0, 0], b[0, 1], b[1, 0])   # Prints \"1 2 4\""
      ]
    },
    {
      "cell_type": "markdown",
      "metadata": {
        "id": "zf_SCxFBoCwB"
      },
      "source": [
        "Numpy also provides many functions to create arrays:"
      ]
    },
    {
      "cell_type": "code",
      "execution_count": 4,
      "metadata": {
        "colab": {
          "base_uri": "https://localhost:8080/"
        },
        "id": "lv0k2vqrnRqZ",
        "outputId": "431f021a-2c30-421b-e0b8-c909cbbc8579"
      },
      "outputs": [
        {
          "output_type": "stream",
          "name": "stdout",
          "text": [
            "[[0. 0.]\n",
            " [0. 0.]]\n",
            "[[1. 1.]]\n",
            "[[7 7]\n",
            " [7 7]]\n",
            "[[1. 0.]\n",
            " [0. 1.]]\n",
            "[[0.17501332 0.09225542]\n",
            " [0.20314295 0.97233144]]\n"
          ]
        }
      ],
      "source": [
        "a = np.zeros((2,2))   # Create an array of all zeros\n",
        "print(a)              # Prints \"[[ 0.  0.]\n",
        "                      #          [ 0.  0.]]\"\n",
        "\n",
        "b = np.ones((1,2))    # Create an array of all ones\n",
        "print(b)              # Prints \"[[ 1.  1.]]\"\n",
        "\n",
        "c = np.full((2,2), 7)  # Create a constant array\n",
        "print(c)               # Prints \"[[ 7.  7.]\n",
        "                       #          [ 7.  7.]]\"\n",
        "\n",
        "d = np.eye(2)         # Create a 2x2 identity matrix\n",
        "print(d)              # Prints \"[[ 1.  0.]\n",
        "                      #          [ 0.  1.]]\"\n",
        "\n",
        "e = np.random.random((2,2))  # Create an array filled with random values\n",
        "print(e)                     # Might print \"[[ 0.4  0.8]\n",
        "                             #               [ 0.6  0.7]]\""
      ]
    },
    {
      "cell_type": "markdown",
      "metadata": {
        "id": "eY3cxH05oYH8"
      },
      "source": [
        "**Array indexing**: Numpy offers several ways to index into arrays.\n",
        "\n",
        "**Slicing**: Similar to Python lists, numpy arrays can be sliced. Since arrays may be multidimensional, you must specify a slice for each dimension of the array"
      ]
    },
    {
      "cell_type": "code",
      "execution_count": 5,
      "metadata": {
        "colab": {
          "base_uri": "https://localhost:8080/"
        },
        "id": "-BcVGkAyoJbf",
        "outputId": "386e9442-239f-4fda-fa6e-404d57ae4375"
      },
      "outputs": [
        {
          "output_type": "stream",
          "name": "stdout",
          "text": [
            "2\n",
            "77\n",
            "[[ 1 77  3  4]\n",
            " [ 5  6  7  8]\n",
            " [ 9 10 11 12]]\n"
          ]
        }
      ],
      "source": [
        "a = np.array([[1,2,3,4], [5,6,7,8], [9,10,11,12]])\n",
        "\n",
        "# Use slicing to pull out the subarray consisting of the first 2 rows\n",
        "# and columns 1 and 2; b is the following array of shape (2, 2):\n",
        "# [[2 3]\n",
        "#  [6 7]]\n",
        "b = a[:2, 1:3]\n",
        "\n",
        "# A slice of an array is a view into the same data, so modifying it\n",
        "# will modify the original array.\n",
        "print(a[0, 1])   # Prints \"2\"\n",
        "b[0, 0] = 77     # b[0, 0] is the same piece of data as a[0, 1]\n",
        "print(a[0, 1])   # Prints \"77\"\n",
        "print(a)         #Prints the modified array"
      ]
    },
    {
      "cell_type": "markdown",
      "metadata": {
        "id": "OLfuHNBfrJ-c"
      },
      "source": [
        "You can also mix integer indexing with slice indexing. However, doing so will yield an array of lower rank than the original array."
      ]
    },
    {
      "cell_type": "code",
      "execution_count": 6,
      "metadata": {
        "colab": {
          "base_uri": "https://localhost:8080/"
        },
        "id": "OWlbg__npVG7",
        "outputId": "929744e3-741e-4699-b026-60c209e3d9c2"
      },
      "outputs": [
        {
          "output_type": "stream",
          "name": "stdout",
          "text": [
            "[5 6 7 8] (4,)\n",
            "[[5 6 7 8]] (1, 4)\n",
            "[ 2  6 10] (3,)\n",
            "[[ 2]\n",
            " [ 6]\n",
            " [10]] (3, 1)\n"
          ]
        }
      ],
      "source": [
        "# Create the following rank 2 array with shape (3, 4)\n",
        "# [[ 1  2  3  4]\n",
        "#  [ 5  6  7  8]\n",
        "#  [ 9 10 11 12]]\n",
        "a = np.array([[1,2,3,4], [5,6,7,8], [9,10,11,12]])\n",
        "\n",
        "# Two ways of accessing the data in the middle row of the array.\n",
        "# Mixing integer indexing with slices yields an array of lower rank,\n",
        "# while using only slices yields an array of the same rank as the\n",
        "# original array:\n",
        "row_r1 = a[1, :]    # Rank 1 view of the second row of a\n",
        "row_r2 = a[1:2, :]  # Rank 2 view of the second row of a\n",
        "print(row_r1, row_r1.shape)  # Prints \"[5 6 7 8] (4,)\"\n",
        "print(row_r2, row_r2.shape)  # Prints \"[[5 6 7 8]] (1, 4)\"\n",
        "\n",
        "# We can make the same distinction when accessing columns of an array:\n",
        "col_r1 = a[:, 1]                 \n",
        "col_r2 = a[:, 1:2]\n",
        "print(col_r1, col_r1.shape)  # Prints \"[ 2  6 10] (3,)\"\n",
        "print(col_r2, col_r2.shape)  # Prints \"[[ 2]\n",
        "                             #          [ 6]\n",
        "                             #          [10]] (3, 1)\""
      ]
    },
    {
      "cell_type": "markdown",
      "metadata": {
        "id": "QIZ1o7fysS_D"
      },
      "source": [
        "**Integer array indexing**: When you index into numpy arrays using slicing, the resulting array view will always be a subarray of the original array. In contrast, integer array indexing allows you to construct arbitrary arrays using the data from another array."
      ]
    },
    {
      "cell_type": "code",
      "execution_count": 7,
      "metadata": {
        "colab": {
          "base_uri": "https://localhost:8080/"
        },
        "id": "DUYFYqJtsA45",
        "outputId": "365539f0-42fe-40a8-e18c-c3b345b88351"
      },
      "outputs": [
        {
          "output_type": "stream",
          "name": "stdout",
          "text": [
            "[1 4 5]\n",
            "[1 4 5]\n",
            "[2 2]\n",
            "[2 2]\n"
          ]
        }
      ],
      "source": [
        "a = np.array([[1,2], [3, 4], [5, 6]])\n",
        "\n",
        "# An example of integer array indexing.\n",
        "# The returned array will have shape (3,) and\n",
        "print(a[[0, 1, 2], [0, 1, 0]])  # Prints \"[1 4 5]\"\n",
        "\n",
        "# The above example of integer array indexing is equivalent to this:\n",
        "print(np.array([a[0, 0], a[1, 1], a[2, 0]]))  # Prints \"[1 4 5]\"\n",
        "\n",
        "# When using integer array indexing, you can reuse the same\n",
        "# element from the source array:\n",
        "print(a[[0, 0], [1, 1]])  # Prints \"[2 2]\"\n",
        "\n",
        "# Equivalent to the previous integer array indexing example\n",
        "print(np.array([a[0, 1], a[0, 1]]))  # Prints \"[2 2]\""
      ]
    },
    {
      "cell_type": "markdown",
      "metadata": {
        "id": "OyC3ABbEfTHW"
      },
      "source": [
        "One useful trick with integer array indexing is selecting or mutating one element from each row of a matrix:"
      ]
    },
    {
      "cell_type": "code",
      "execution_count": 8,
      "metadata": {
        "colab": {
          "base_uri": "https://localhost:8080/"
        },
        "id": "c1UlbX8Xe0mi",
        "outputId": "28c96802-5bff-4dd0-d0b7-ec19a06bf078"
      },
      "outputs": [
        {
          "output_type": "stream",
          "name": "stdout",
          "text": [
            "[[ 1  2  3]\n",
            " [ 4  5  6]\n",
            " [ 7  8  9]\n",
            " [10 11 12]]\n",
            "[ 1  6  7 11]\n",
            "[[11  2  3]\n",
            " [ 4  5 16]\n",
            " [17  8  9]\n",
            " [10 21 12]]\n"
          ]
        }
      ],
      "source": [
        "# Create a new array from which we will select elements\n",
        "a = np.array([[1,2,3], [4,5,6], [7,8,9], [10, 11, 12]])\n",
        "\n",
        "print(a)  # prints \"array([[ 1,  2,  3],\n",
        "          #                [ 4,  5,  6],\n",
        "          #                [ 7,  8,  9],\n",
        "          #                [10, 11, 12]])\"\n",
        "\n",
        "# Create an array of indices\n",
        "b = np.array([0, 2, 0, 1])\n",
        "\n",
        "# Select one element from each row of a using the indices in b\n",
        "print(a[np.arange(4), b])  # Prints \"[ 1  6  7 11]\"\n",
        "\n",
        "# Mutate one element from each row of a using the indices in b\n",
        "a[np.arange(4), b] += 10\n",
        "\n",
        "print(a)  # prints \"array([[11,  2,  3],\n",
        "          #                [ 4,  5, 16],\n",
        "          #                [17,  8,  9],\n",
        "          #                [10, 21, 12]])"
      ]
    },
    {
      "cell_type": "markdown",
      "metadata": {
        "id": "jiREPT2WfbBH"
      },
      "source": [
        "**Boolean array indexing**: Boolean array indexing lets you pick out arbitrary elements of an array. Frequently this type of indexing is used to select the elements of an array that satisfy some condition. Here is an example:"
      ]
    },
    {
      "cell_type": "code",
      "execution_count": 9,
      "metadata": {
        "colab": {
          "base_uri": "https://localhost:8080/"
        },
        "id": "rPWr6njFfXvH",
        "outputId": "55a7354e-4ecf-418c-8c91-680c67ae2a5c"
      },
      "outputs": [
        {
          "output_type": "stream",
          "name": "stdout",
          "text": [
            "[[False False]\n",
            " [ True  True]\n",
            " [ True  True]]\n",
            "[3 4 5 6]\n",
            "[3 4 5 6]\n"
          ]
        }
      ],
      "source": [
        "a = np.array([[1,2], [3, 4], [5, 6]])\n",
        "\n",
        "bool_idx = (a > 2)   # Find the elements of a that are bigger than 2;\n",
        "                     # this returns a numpy array of Booleans of the same\n",
        "                     # shape as a, where each slot of bool_idx tells\n",
        "                     # whether that element of a is > 2.\n",
        "\n",
        "print(bool_idx)      # Prints \"[[False False]\n",
        "                     #          [ True  True]\n",
        "                     #          [ True  True]]\"\n",
        "\n",
        "# We use boolean array indexing to construct a rank 1 array\n",
        "# consisting of the elements of a corresponding to the True values\n",
        "# of bool_idx\n",
        "print(a[bool_idx])  # Prints \"[3 4 5 6]\"\n",
        "\n",
        "# We can do all of the above in a single concise statement:\n",
        "print(a[a > 2])     # Prints \"[3 4 5 6]\""
      ]
    },
    {
      "cell_type": "markdown",
      "metadata": {
        "id": "vfG9oAU0gsoX"
      },
      "source": [
        "#Datatypes:\n",
        "Every numpy array is a grid of elements of the same type. Numpy provides a large set of numeric datatypes that you can use to construct arrays. Numpy tries to guess a datatype when you create an array, but functions that construct arrays usually also include an optional argument to explicitly specify the datatype. Here is an example:"
      ]
    },
    {
      "cell_type": "code",
      "execution_count": 10,
      "metadata": {
        "colab": {
          "base_uri": "https://localhost:8080/"
        },
        "id": "7T5GvzlFf8vc",
        "outputId": "62792597-a3b5-4130-fe65-7312d57bb1eb"
      },
      "outputs": [
        {
          "output_type": "stream",
          "name": "stdout",
          "text": [
            "int64\n",
            "float64\n",
            "int64\n"
          ]
        }
      ],
      "source": [
        "x = np.array([1, 2])   # Let numpy choose the datatype\n",
        "print(x.dtype)         # Prints \"int64\"\n",
        "\n",
        "x = np.array([1.0, 2.0])   # Let numpy choose the datatype\n",
        "print(x.dtype)             # Prints \"float64\"\n",
        "\n",
        "x = np.array([1, 2], dtype=np.int64)   # Force a particular datatype\n",
        "print(x.dtype)                         # Prints \"int64\""
      ]
    },
    {
      "cell_type": "markdown",
      "metadata": {
        "id": "nHB7MZebgpjG"
      },
      "source": [
        "#Array math:\n",
        "Basic mathematical functions operate elementwise on arrays, and are available both as operator overloads and as functions in the numpy module:"
      ]
    },
    {
      "cell_type": "code",
      "execution_count": 11,
      "metadata": {
        "colab": {
          "base_uri": "https://localhost:8080/"
        },
        "id": "ciuQsEIugm9a",
        "outputId": "bd5947a6-89eb-405e-c417-3607354bf690"
      },
      "outputs": [
        {
          "output_type": "stream",
          "name": "stdout",
          "text": [
            "[[ 6.  8.]\n",
            " [10. 12.]]\n",
            "[[ 6.  8.]\n",
            " [10. 12.]]\n",
            "[[-4. -4.]\n",
            " [-4. -4.]]\n",
            "[[-4. -4.]\n",
            " [-4. -4.]]\n",
            "[[ 5. 12.]\n",
            " [21. 32.]]\n",
            "[[ 5. 12.]\n",
            " [21. 32.]]\n",
            "[[0.2        0.33333333]\n",
            " [0.42857143 0.5       ]]\n",
            "[[0.2        0.33333333]\n",
            " [0.42857143 0.5       ]]\n",
            "[[1.         1.41421356]\n",
            " [1.73205081 2.        ]]\n"
          ]
        }
      ],
      "source": [
        "x = np.array([[1,2],[3,4]], dtype=np.float64)\n",
        "y = np.array([[5,6],[7,8]], dtype=np.float64)\n",
        "\n",
        "# Elementwise sum; both produce the array\n",
        "# [[ 6.0  8.0]\n",
        "#  [10.0 12.0]]\n",
        "print(x + y)\n",
        "print(np.add(x, y))\n",
        "\n",
        "# Elementwise difference; both produce the array\n",
        "# [[-4.0 -4.0]\n",
        "#  [-4.0 -4.0]]\n",
        "print(x - y)\n",
        "print(np.subtract(x, y))\n",
        "\n",
        "# Elementwise product; both produce the array\n",
        "# [[ 5.0 12.0]\n",
        "#  [21.0 32.0]]\n",
        "print(x * y)\n",
        "print(np.multiply(x, y))\n",
        "\n",
        "# Elementwise division; both produce the array\n",
        "# [[ 0.2         0.33333333]\n",
        "#  [ 0.42857143  0.5       ]]\n",
        "print(x / y)\n",
        "print(np.divide(x, y))\n",
        "\n",
        "# Elementwise square root; produces the array\n",
        "# [[ 1.          1.41421356]\n",
        "#  [ 1.73205081  2.        ]]\n",
        "print(np.sqrt(x))\n"
      ]
    },
    {
      "cell_type": "markdown",
      "metadata": {
        "id": "mVcmX7vOiZME"
      },
      "source": [
        " '*' is elementwise multiplication, not matrix multiplication. We instead use the dot function to compute inner products of vectors, to multiply a vector by a matrix, and to multiply matrices. dot is available both as a function in the numpy module and as an instance method of array objects:"
      ]
    },
    {
      "cell_type": "code",
      "execution_count": 12,
      "metadata": {
        "colab": {
          "base_uri": "https://localhost:8080/"
        },
        "id": "KGjSIC8HhEDd",
        "outputId": "4b08075f-c081-4c8e-bf25-72d2cf3f3885"
      },
      "outputs": [
        {
          "output_type": "stream",
          "name": "stdout",
          "text": [
            "219\n",
            "219\n",
            "[29 67]\n",
            "[29 67]\n",
            "[[19 22]\n",
            " [43 50]]\n",
            "[[19 22]\n",
            " [43 50]]\n"
          ]
        }
      ],
      "source": [
        "x = np.array([[1,2],[3,4]])\n",
        "y = np.array([[5,6],[7,8]])\n",
        "\n",
        "v = np.array([9,10])\n",
        "w = np.array([11, 12])\n",
        "\n",
        "# Inner product of vectors; both produce 219\n",
        "print(v.dot(w))\n",
        "print(np.dot(v, w))\n",
        "\n",
        "# Matrix / vector product; both produce the rank 1 array [29 67]\n",
        "print(x.dot(v))\n",
        "print(np.dot(x, v))\n",
        "\n",
        "# Matrix / matrix product; both produce the rank 2 array\n",
        "# [[19 22]\n",
        "#  [43 50]]\n",
        "print(x.dot(y))\n",
        "print(np.dot(x, y))"
      ]
    },
    {
      "cell_type": "markdown",
      "metadata": {
        "id": "1mJ32wlsiwRE"
      },
      "source": [
        "Numpy provides many useful functions for performing computations on arrays; one of the most useful is sum:"
      ]
    },
    {
      "cell_type": "code",
      "execution_count": 13,
      "metadata": {
        "colab": {
          "base_uri": "https://localhost:8080/"
        },
        "id": "ntQo7ssyigF7",
        "outputId": "b432c621-0371-4b38-bda1-6fb8776cd4fe"
      },
      "outputs": [
        {
          "output_type": "stream",
          "name": "stdout",
          "text": [
            "10\n",
            "[4 6]\n",
            "[3 7]\n"
          ]
        }
      ],
      "source": [
        "x = np.array([[1,2],[3,4]])\n",
        "\n",
        "print(np.sum(x))  # Compute sum of all elements; prints \"10\"\n",
        "print(np.sum(x, axis=0))  # Compute sum of each column; prints \"[4 6]\"\n",
        "print(np.sum(x, axis=1))  # Compute sum of each row; prints \"[3 7]\""
      ]
    },
    {
      "cell_type": "markdown",
      "metadata": {
        "id": "ir2pipyvkVsc"
      },
      "source": [
        "Apart from computing mathematical functions using arrays, we frequently need to reshape or otherwise manipulate data in arrays. The simplest example of this type of operation is transposing a matrix; to transpose a matrix, simply use the T attribute of an array object:"
      ]
    },
    {
      "cell_type": "code",
      "execution_count": 14,
      "metadata": {
        "colab": {
          "base_uri": "https://localhost:8080/"
        },
        "id": "lHwOlLctj2Dw",
        "outputId": "0c16fec1-9075-4734-eafe-6be2e03bcee9"
      },
      "outputs": [
        {
          "output_type": "stream",
          "name": "stdout",
          "text": [
            "[[1 2]\n",
            " [3 4]]\n",
            "[[1 3]\n",
            " [2 4]]\n",
            "[1 2 3]\n",
            "[1 2 3]\n"
          ]
        }
      ],
      "source": [
        "x = np.array([[1,2], [3,4]])\n",
        "print(x)    # Prints \"[[1 2]\n",
        "            #          [3 4]]\"\n",
        "print(x.T)  # Prints \"[[1 3]\n",
        "            #          [2 4]]\"\n",
        "\n",
        "# Note that taking the transpose of a rank 1 array does nothing:\n",
        "v = np.array([1,2,3])\n",
        "print(v)    # Prints \"[1 2 3]\"\n",
        "print(v.T)  # Prints \"[1 2 3]\""
      ]
    },
    {
      "cell_type": "markdown",
      "metadata": {
        "id": "heHEN0mGkgfr"
      },
      "source": [
        "#Broadcasting\n",
        "Broadcasting is a powerful mechanism that allows numpy to work with arrays of different shapes when performing arithmetic operations. Frequently we have a smaller array and a larger array, and we want to use the smaller array multiple times to perform some operation on the larger array.\n",
        "\n",
        "For example, suppose that we want to add a constant vector to each row of a matrix. We could do it like this:"
      ]
    },
    {
      "cell_type": "code",
      "execution_count": 15,
      "metadata": {
        "colab": {
          "base_uri": "https://localhost:8080/"
        },
        "id": "p3yClnmGkZTi",
        "outputId": "4d84ad40-154e-47e5-e776-50f0bca3015d"
      },
      "outputs": [
        {
          "output_type": "stream",
          "name": "stdout",
          "text": [
            "[[ 2  2  4]\n",
            " [ 5  5  7]\n",
            " [ 8  8 10]\n",
            " [11 11 13]]\n"
          ]
        }
      ],
      "source": [
        "# We will add the vector v to each row of the matrix x,\n",
        "# storing the result in the matrix y\n",
        "x = np.array([[1,2,3], [4,5,6], [7,8,9], [10, 11, 12]])\n",
        "v = np.array([1, 0, 1])\n",
        "y = np.empty_like(x)   # Create an empty matrix with the same shape as x\n",
        "\n",
        "# Add the vector v to each row of the matrix x with an explicit loop\n",
        "for i in range(4):\n",
        "    y[i, :] = x[i, :] + v\n",
        "\n",
        "# Now y is the following\n",
        "# [[ 2  2  4]\n",
        "#  [ 5  5  7]\n",
        "#  [ 8  8 10]\n",
        "#  [11 11 13]]\n",
        "print(y)"
      ]
    },
    {
      "cell_type": "markdown",
      "metadata": {
        "id": "QGVe4Yz2k_d-"
      },
      "source": [
        "This works; however when the matrix x is very large, computing an explicit loop in Python could be slow. Note that adding the vector v to each row of the matrix x is equivalent to forming a matrix vv by stacking multiple copies of v vertically, then performing elementwise summation of x and vv. We could implement this approach like this:"
      ]
    },
    {
      "cell_type": "code",
      "execution_count": 16,
      "metadata": {
        "colab": {
          "base_uri": "https://localhost:8080/"
        },
        "id": "raHi1OV3k1E7",
        "outputId": "5320b938-ecf2-41e5-cbc7-2877886095ca"
      },
      "outputs": [
        {
          "output_type": "stream",
          "name": "stdout",
          "text": [
            "[[1 0 1]\n",
            " [1 0 1]\n",
            " [1 0 1]\n",
            " [1 0 1]]\n",
            "[[ 2  2  4]\n",
            " [ 5  5  7]\n",
            " [ 8  8 10]\n",
            " [11 11 13]]\n"
          ]
        }
      ],
      "source": [
        "# We will add the vector v to each row of the matrix x,\n",
        "# storing the result in the matrix y\n",
        "x = np.array([[1,2,3], [4,5,6], [7,8,9], [10, 11, 12]])\n",
        "v = np.array([1, 0, 1])\n",
        "vv = np.tile(v, (4, 1))   # Stack 4 copies of v on top of each other\n",
        "print(vv)                 # Prints \"[[1 0 1]\n",
        "                          #          [1 0 1]\n",
        "                          #          [1 0 1]\n",
        "                          #          [1 0 1]]\"\n",
        "y = x + vv  # Add x and vv elementwise\n",
        "print(y)  # Prints \"[[ 2  2  4\n",
        "          #          [ 5  5  7]\n",
        "          #          [ 8  8 10]\n",
        "          #          [11 11 13]]\""
      ]
    },
    {
      "cell_type": "markdown",
      "metadata": {
        "id": "MbsZypgflS13"
      },
      "source": [
        "Numpy broadcasting allows us to perform this computation without actually creating multiple copies of v. Consider this version, using broadcasting:"
      ]
    },
    {
      "cell_type": "code",
      "execution_count": 17,
      "metadata": {
        "colab": {
          "base_uri": "https://localhost:8080/"
        },
        "id": "y4H6-v0TlCgS",
        "outputId": "0d2ae1a1-0d93-4332-9d1b-7089cc221008"
      },
      "outputs": [
        {
          "output_type": "stream",
          "name": "stdout",
          "text": [
            "[[ 2  2  4]\n",
            " [ 5  5  7]\n",
            " [ 8  8 10]\n",
            " [11 11 13]]\n"
          ]
        }
      ],
      "source": [
        "# We will add the vector v to each row of the matrix x,\n",
        "# storing the result in the matrix y\n",
        "x = np.array([[1,2,3], [4,5,6], [7,8,9], [10, 11, 12]])\n",
        "v = np.array([1, 0, 1])\n",
        "y = x + v  # Add v to each row of x using broadcasting\n",
        "print(y)  # Prints \"[[ 2  2  4]\n",
        "          #          [ 5  5  7]\n",
        "          #          [ 8  8 10]\n",
        "          #          [11 11 13]]\""
      ]
    },
    {
      "cell_type": "markdown",
      "metadata": {
        "id": "pBExXc8Pl1H8"
      },
      "source": [
        "The line y = x + v works even though x has shape (4, 3) and v has shape (3,) due to broadcasting; this line works as if v actually had shape (4, 3), where each row was a copy of v, and the sum was performed elementwise.\n",
        "\n",
        "Broadcasting two arrays together follows these rules:\n",
        "\n",
        "1. If the arrays do not have the same rank, prepend the shape of the lower rank array with 1s until both shapes have the same length.\n",
        "2.The two arrays are said to be compatible in a dimension if they have the same size in the dimension, or if one of the arrays has size 1 in that dimension.\n",
        "3. The arrays can be broadcast together if they are compatible in all dimensions.\n",
        "4. After broadcasting, each array behaves as if it had shape equal to the elementwise maximum of shapes of the two input arrays.\n",
        "5. In any dimension where one array had size 1 and the other array had size greater than 1, the first array behaves as if it were copied along that dimension\n",
        "\n",
        "**Here are some applications of broadcasting:**"
      ]
    },
    {
      "cell_type": "code",
      "execution_count": 18,
      "metadata": {
        "colab": {
          "base_uri": "https://localhost:8080/"
        },
        "id": "gaCCOpI9lVRs",
        "outputId": "21a48aec-1299-4ca2-d554-f006b32f2119"
      },
      "outputs": [
        {
          "output_type": "stream",
          "name": "stdout",
          "text": [
            "[[ 4  5]\n",
            " [ 8 10]\n",
            " [12 15]]\n",
            "[[2 4 6]\n",
            " [5 7 9]]\n",
            "[[ 5  6  7]\n",
            " [ 9 10 11]]\n",
            "[[ 5  6  7]\n",
            " [ 9 10 11]]\n",
            "[[ 2  4  6]\n",
            " [ 8 10 12]]\n"
          ]
        }
      ],
      "source": [
        "# Compute outer product of vectors\n",
        "v = np.array([1,2,3])  # v has shape (3,)\n",
        "w = np.array([4,5])    # w has shape (2,)\n",
        "# To compute an outer product, we first reshape v to be a column\n",
        "# vector of shape (3, 1); we can then broadcast it against w to yield\n",
        "# an output of shape (3, 2), which is the outer product of v and w:\n",
        "# [[ 4  5]\n",
        "#  [ 8 10]\n",
        "#  [12 15]]\n",
        "print(np.reshape(v, (3, 1)) * w)\n",
        "\n",
        "# Add a vector to each row of a matrix\n",
        "x = np.array([[1,2,3], [4,5,6]])\n",
        "# x has shape (2, 3) and v has shape (3,) so they broadcast to (2, 3),\n",
        "# giving the following matrix:\n",
        "# [[2 4 6]\n",
        "#  [5 7 9]]\n",
        "print(x + v)\n",
        "\n",
        "# Add a vector to each column of a matrix\n",
        "# x has shape (2, 3) and w has shape (2,).\n",
        "# If we transpose x then it has shape (3, 2) and can be broadcast\n",
        "# against w to yield a result of shape (3, 2); transposing this result\n",
        "# yields the final result of shape (2, 3) which is the matrix x with\n",
        "# the vector w added to each column. Gives the following matrix:\n",
        "# [[ 5  6  7]\n",
        "#  [ 9 10 11]]\n",
        "print((x.T + w).T)\n",
        "# Another solution is to reshape w to be a column vector of shape (2, 1);\n",
        "# we can then broadcast it directly against x to produce the same\n",
        "# output.\n",
        "print(x + np.reshape(w, (2, 1)))\n",
        "\n",
        "# Multiply a matrix by a constant:\n",
        "# x has shape (2, 3). Numpy treats scalars as arrays of shape ();\n",
        "# these can be broadcast together to shape (2, 3), producing the\n",
        "# following array:\n",
        "# [[ 2  4  6]\n",
        "#  [ 8 10 12]]\n",
        "print(x * 2)"
      ]
    },
    {
      "cell_type": "markdown",
      "metadata": {
        "id": "4CF98a_LohvA"
      },
      "source": [
        "#Flattening a NumPy array:\n",
        "Sometimes when you have a multidimensional array and want to collapse it to a single-dimensional array, you can either use the flatten() method or the ravel() method:"
      ]
    },
    {
      "cell_type": "code",
      "execution_count": 19,
      "metadata": {
        "colab": {
          "base_uri": "https://localhost:8080/"
        },
        "id": "g3n41TVoodZ5",
        "outputId": "8f89ef9e-256c-4dc4-81b1-7d7333b9f932"
      },
      "outputs": [
        {
          "output_type": "stream",
          "name": "stdout",
          "text": [
            "Original shape : (2, 2)\n",
            "Array : \n",
            " [[1. 1.]\n",
            " [1. 1.]]\n",
            "Shape after flatten : (4,)\n",
            "Array : \n",
            " [1. 1. 1. 1.]\n",
            "Shape after ravel : (4,)\n",
            "Array : \n",
            " [1. 1. 1. 1.]\n"
          ]
        }
      ],
      "source": [
        "a = np.ones((2,2))\n",
        "b = a.flatten()\n",
        "c = a.ravel()\n",
        "print('Original shape :', a.shape)\n",
        "print('Array :','\\n', a)\n",
        "print('Shape after flatten :',b.shape)\n",
        "print('Array :','\\n', b)\n",
        "print('Shape after ravel :',c.shape)\n",
        "print('Array :','\\n', c)"
      ]
    },
    {
      "cell_type": "markdown",
      "metadata": {
        "id": "pLFEeeL0o0Lo"
      },
      "source": [
        "But an important difference between flatten() and ravel() is that the former returns a copy of the original array while the latter returns a reference to the original array. This means any changes made to the array returned from ravel() will also be reflected in the original array while this will not be the case with flatten().\n",
        "\n",
        "![image.png](data:image/png;base64,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)"
      ]
    },
    {
      "cell_type": "markdown",
      "metadata": {
        "id": "7YrehxoTmx28"
      },
      "source": [
        "**Numpy documentation link:**\n",
        "https://numpy.org/doc/stable/reference/"
      ]
    },
    {
      "cell_type": "markdown",
      "metadata": {
        "id": "u-ym2zcan4kr"
      },
      "source": [
        "#**NumPy on actual dataset**"
      ]
    },
    {
      "cell_type": "markdown",
      "metadata": {
        "id": "dSrgRCI-ssjO"
      },
      "source": [
        "To import a dataset with numbers and texts keeping the text intact in python numpy"
      ]
    },
    {
      "cell_type": "code",
      "execution_count": 20,
      "metadata": {
        "id": "wVwkeQVonAAU"
      },
      "outputs": [],
      "source": [
        "#importing libraries\n",
        "import pandas as pd\n",
        "import numpy as np"
      ]
    },
    {
      "cell_type": "code",
      "execution_count": 21,
      "metadata": {
        "colab": {
          "base_uri": "https://localhost:8080/"
        },
        "id": "4AcvJcQfsu75",
        "outputId": "9939d0c9-c9e4-4cb2-d06a-0b8a6f771e55"
      },
      "outputs": [
        {
          "output_type": "stream",
          "name": "stderr",
          "text": [
            "/usr/local/lib/python3.7/dist-packages/ipykernel_launcher.py:2: VisibleDeprecationWarning: Reading unicode strings without specifying the encoding argument is deprecated. Set the encoding, use None for the system default.\n",
            "  \n"
          ]
        }
      ],
      "source": [
        "url = 'https://archive.ics.uci.edu/ml/machine-learning-databases/iris/iris.data' #importing data from a link directlty\n",
        "iris_1d = np.genfromtxt(url, delimiter=',', dtype=None)                          #converting into numPy array\n",
        "names = ('sepallength', 'sepalwidth', 'petallength', 'petalwidth', 'species')    #List of important columns\n"
      ]
    },
    {
      "cell_type": "markdown",
      "metadata": {
        "id": "IGyiVXcotEHF"
      },
      "source": [
        "Converting the 1D iris to 2D array iris_2d by omitting the species text field"
      ]
    },
    {
      "cell_type": "code",
      "execution_count": 22,
      "metadata": {
        "colab": {
          "base_uri": "https://localhost:8080/"
        },
        "id": "Y7Y33dg5s_SY",
        "outputId": "3a53e737-7ed5-4905-dbb8-c1225d52884b"
      },
      "outputs": [
        {
          "output_type": "execute_result",
          "data": {
            "text/plain": [
              "array([[5.1, 3.5, 1.4, 0.2],\n",
              "       [4.9, 3. , 1.4, 0.2],\n",
              "       [4.7, 3.2, 1.3, 0.2],\n",
              "       [4.6, 3.1, 1.5, 0.2]])"
            ]
          },
          "metadata": {},
          "execution_count": 22
        }
      ],
      "source": [
        "# Method 1: Convert each row to a list and get the first 4 items\n",
        "iris_2d = np.array([row.tolist()[:4] for row in iris_1d])\n",
        "iris_2d[:4]"
      ]
    },
    {
      "cell_type": "code",
      "execution_count": 23,
      "metadata": {
        "colab": {
          "base_uri": "https://localhost:8080/"
        },
        "id": "aVBbCOx3tQbd",
        "outputId": "06da31b2-38da-490e-bb26-b10c5e3644a7"
      },
      "outputs": [
        {
          "output_type": "execute_result",
          "data": {
            "text/plain": [
              "array([[5.1, 3.5, 1.4, 0.2],\n",
              "       [4.9, 3. , 1.4, 0.2],\n",
              "       [4.7, 3.2, 1.3, 0.2],\n",
              "       [4.6, 3.1, 1.5, 0.2]])"
            ]
          },
          "metadata": {},
          "execution_count": 23
        }
      ],
      "source": [
        "# Alt Method 2: Import only the first 4 columns from source url\n",
        "iris_2d = np.genfromtxt(url, delimiter=',', dtype='float', usecols=[0,1,2,3])\n",
        "iris_2d[:4]\n",
        "#> array([[ 5.1,  3.5,  1.4,  0.2],\n",
        "#>        [ 4.9,  3. ,  1.4,  0.2],\n",
        "#>        [ 4.7,  3.2,  1.3,  0.2],\n",
        "#>        [ 4.6,  3.1,  1.5,  0.2]])"
      ]
    },
    {
      "cell_type": "markdown",
      "metadata": {
        "id": "OJcYO8VLtWMs"
      },
      "source": [
        "Find the mean, median, standard deviation of iris’s sepallength (1st column):"
      ]
    },
    {
      "cell_type": "code",
      "execution_count": 24,
      "metadata": {
        "id": "15nATvQLt15Q"
      },
      "outputs": [],
      "source": [
        "iris = np.genfromtxt(url, delimiter=',', dtype='object')                       #Genrerating numPy array from text\n",
        "sepallength = np.genfromtxt(url, delimiter=',', dtype='float', usecols=[0])    #Extracting the first column in \"Sepallength\""
      ]
    },
    {
      "cell_type": "code",
      "execution_count": null,
      "metadata": {
        "colab": {
          "base_uri": "https://localhost:8080/"
        },
        "id": "FKVjDL8JtS_t",
        "outputId": "b6dbf37b-9ead-4e17-b6d4-2153bcdc1b14"
      },
      "outputs": [
        {
          "name": "stdout",
          "output_type": "stream",
          "text": [
            "5.843333333333334 5.8 0.8253012917851409\n"
          ]
        }
      ],
      "source": [
        "mu, med, sd = np.mean(sepallength), np.median(sepallength), np.std(sepallength) #Calculating mean, median and standard deviation\n",
        "print(mu, med, sd)\n",
        "#> 5.84333333333 5.8 0.825301291785"
      ]
    },
    {
      "cell_type": "markdown",
      "metadata": {
        "id": "pCui3W1Ft89U"
      },
      "source": [
        "Find the number and position of missing values in iris_2d‘s sepallength (1st column):"
      ]
    },
    {
      "cell_type": "code",
      "execution_count": 25,
      "metadata": {
        "colab": {
          "base_uri": "https://localhost:8080/"
        },
        "id": "IfzJzL7ZtcZi",
        "outputId": "0e666715-69ec-42c0-b4fe-5e45623f9464"
      },
      "outputs": [
        {
          "output_type": "stream",
          "name": "stdout",
          "text": [
            "Number of missing values: \n",
            " 8\n",
            "Position of missing values: \n",
            " (array([ 12,  20,  45,  65,  73, 108, 110, 115]),)\n"
          ]
        }
      ],
      "source": [
        "iris_2d = np.genfromtxt(url, delimiter=',', dtype='float', usecols=[0,1,2,3])\n",
        "iris_2d[np.random.randint(150, size=20), np.random.randint(4, size=20)] = np.nan\n",
        "\n",
        "# Solution\n",
        "print(\"Number of missing values: \\n\", np.isnan(iris_2d[:, 0]).sum())\n",
        "print(\"Position of missing values: \\n\", np.where(np.isnan(iris_2d[:, 0])))\n",
        "#> Number of missing values: \n",
        "#>  5\n",
        "#> Position of missing values: \n",
        "#>  (array([ 39,  88,  99, 130, 147]),)"
      ]
    },
    {
      "cell_type": "markdown",
      "metadata": {
        "id": "Zn8ALkIsuKMc"
      },
      "source": [
        "To replace all missing values with 0 in a numpy array:"
      ]
    },
    {
      "cell_type": "code",
      "execution_count": 26,
      "metadata": {
        "colab": {
          "base_uri": "https://localhost:8080/"
        },
        "id": "tWKClFpFuB5U",
        "outputId": "5dd6d6e1-50e0-45de-f7c6-d5797317f9b8"
      },
      "outputs": [
        {
          "output_type": "execute_result",
          "data": {
            "text/plain": [
              "array([[5.1, 3.5, 1.4, 0.2],\n",
              "       [4.9, 3. , 1.4, 0.2],\n",
              "       [4.7, 3.2, 1.3, 0.2],\n",
              "       [4.6, 3.1, 1.5, 0. ]])"
            ]
          },
          "metadata": {},
          "execution_count": 26
        }
      ],
      "source": [
        "iris_2d = np.genfromtxt(url, delimiter=',', dtype='float', usecols=[0,1,2,3])\n",
        "iris_2d[np.random.randint(150, size=20), np.random.randint(4, size=20)] = np.nan\n",
        "\n",
        "# Solution\n",
        "iris_2d[np.isnan(iris_2d)] = 0\n",
        "iris_2d[:4]\n",
        "#> array([[ 5.1,  3.5,  1.4,  0. ],\n",
        "#>        [ 4.9,  3. ,  1.4,  0.2],\n",
        "#>        [ 4.7,  3.2,  1.3,  0.2],\n",
        "#>        [ 4.6,  3.1,  1.5,  0.2]])"
      ]
    }
  ],
  "metadata": {
    "colab": {
      "name": "How to work with numpy.ipynb",
      "provenance": []
    },
    "kernelspec": {
      "display_name": "Python 3",
      "name": "python3"
    },
    "language_info": {
      "name": "python"
    }
  },
  "nbformat": 4,
  "nbformat_minor": 0
}